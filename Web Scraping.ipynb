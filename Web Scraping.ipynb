{
 "cells": [
  {
   "cell_type": "markdown",
   "id": "dc32e0d8",
   "metadata": {},
   "source": [
    "## Lab 1."
   ]
  },
  {
   "cell_type": "code",
   "execution_count": 1,
   "id": "a0017275",
   "metadata": {},
   "outputs": [],
   "source": [
    "from bs4 import BeautifulSoup \n",
    "import requests\n",
    "import pandas as pd"
   ]
  },
  {
   "cell_type": "code",
   "execution_count": 2,
   "id": "d42f2b82",
   "metadata": {},
   "outputs": [],
   "source": [
    "url = \"https://www.popvortex.com/music/charts/top-100-songs.php\" "
   ]
  },
  {
   "cell_type": "code",
   "execution_count": 3,
   "id": "f8d8203f",
   "metadata": {},
   "outputs": [
    {
     "data": {
      "text/plain": [
       "200"
      ]
     },
     "execution_count": 3,
     "metadata": {},
     "output_type": "execute_result"
    }
   ],
   "source": [
    "response = requests.get(url)\n",
    "response.status_code"
   ]
  },
  {
   "cell_type": "code",
   "execution_count": 4,
   "id": "61b5ea36",
   "metadata": {},
   "outputs": [],
   "source": [
    "soup = BeautifulSoup(response.content, \"html.parser\")"
   ]
  },
  {
   "cell_type": "code",
   "execution_count": 5,
   "id": "8ea8aaa2",
   "metadata": {},
   "outputs": [],
   "source": [
    "#soup"
   ]
  },
  {
   "cell_type": "code",
   "execution_count": 6,
   "id": "5fff22b5",
   "metadata": {},
   "outputs": [
    {
     "data": {
      "text/plain": [
       "[<cite class=\"title\">81 Million Votes, My Ass</cite>]"
      ]
     },
     "execution_count": 6,
     "metadata": {},
     "output_type": "execute_result"
    }
   ],
   "source": [
    "soup.select('#chart-position-1 > div.chart-content.col-xs-12.col-sm-8 > p > cite')"
   ]
  },
  {
   "cell_type": "code",
   "execution_count": 7,
   "id": "7b315a4a",
   "metadata": {},
   "outputs": [
    {
     "data": {
      "text/plain": [
       "[<em class=\"artist\">The Truth Bombers &amp; Kari Lake</em>]"
      ]
     },
     "execution_count": 7,
     "metadata": {},
     "output_type": "execute_result"
    }
   ],
   "source": [
    "soup.select('#chart-position-1 > div.chart-content.col-xs-12.col-sm-8 > p > em')"
   ]
  },
  {
   "cell_type": "code",
   "execution_count": 8,
   "id": "4b479c61",
   "metadata": {},
   "outputs": [],
   "source": [
    "title = soup.select "
   ]
  },
  {
   "cell_type": "code",
   "execution_count": 9,
   "id": "9e50623f",
   "metadata": {},
   "outputs": [
    {
     "name": "stdout",
     "output_type": "stream",
     "text": [
      "['81 Million Votes, My Ass', 'Fast Car', 'Last Night', 'Take Two', 'Need A Favor', 'Save Me (with Lainey Wilson)', 'Bust a Move', 'Flowers', 'Calm Down', 'Funky Cold Medina', 'Thank God I Do', 'Son Of A Sinner', 'Thinkin’ Bout Me', 'Son', 'Wild Thing', 'Stand By Me (feat. Morgan Wallen)', 'Dance The Night', 'Area Codes', 'TRUSTFALL', 'All My Life (feat. J. Cole)', 'Fast Car', 'Thank God', 'Heart Like A Truck', 'Cruel Summer', 'Favorite Song', 'Religiously', 'Love You Anyway', 'Eyes Closed', 'Let Me In', 'Hold My Hand', 'Thought You Should Know', \"Something in the Orange (Z&E's Version)\", 'Thicc As Thieves', 'Dancin’ In The Country', 'Next Thing You Know', 'Heaven', 'Rock and A Hard Place', 'Tennessee Orange', 'Karma', 'Watermelon Moonshine', 'Anti-Hero', 'Can She Have This Dance', 'Pound Town 2', 'wait in the truck', 'Praise You Anywhere', 'Mourning', 'Daylight', 'Bury Me in Georgia (Single Edit)', 'One Thing At A Time', 'Unstoppable', 'O.P.P. (Re-recorded Version)', 'Oklahoma Smokeshow', 'Makeba', 'Tennessee Whiskey', 'Chemical', 'Peaches', 'Hip Hop Hooray (Re-recorded Version)', 'Waffle House', 'Wasted On You', 'Halfway To Hell', 'Sure Thing', \"I Ain't Worried\", 'TRUCK BED', 'Ella Baila Sola', 'Am I Dreaming', 'Rode Hard', 'Try That In A Small Town', 'Magic Shop', 'Drinkaby', 'If You Were Mine', 'Cupid (Twin Ver.)', 'Memory Lane', 'You Proof', 'Shivers', 'Your Heart Or Mine', 'Perfect', 'Karma (feat. Ice Spice)', 'Save Me', 'Dial Drunk', 'VULGAR', 'Put It On Da Floor Again (feat. Cardi B)', 'Gratitude', 'WHERE SHE GOES', 'How Do I Say Goodbye', 'Beat You There', 'You Need To Calm Down', 'Hits Different', 'One Margarita (Margarita Song)', \"All Your'n\", 'Always Remember Us This Way', 'But I Got A Beer In My Hand', 'Count on Me', 'Human', 'Slut Me Out', 'As It Was', 'HAPPY', 'She Had Me At Heads Carolina', 'Calm Down', 'Life Goes On (feat. Luke Combs)', 'Whiskey Glasses']\n",
      "['The Truth Bombers & Kari Lake', 'Luke Combs', 'Morgan Wallen', 'BTS', 'Jelly Roll', 'Jelly Roll', 'Young MC', 'Miley Cyrus', 'Rema & Selena Gomez', 'Tone-Loc', 'Lauren Daigle', 'Jelly Roll', 'Morgan Wallen', 'Mitch Rossell', 'Tone-Loc', 'Lil Durk', 'Dua Lipa', 'Kali', 'P!nk', 'Lil Durk', 'Tracy Chapman', 'Kane Brown & Katelyn Brown', 'Lainey Wilson', 'Taylor Swift', 'Toosii', 'Bailey Zimmerman', 'Luke Combs', 'Ed Sheeran', 'EXO', 'Lady Gaga', 'Morgan Wallen', 'Zach Bryan', 'Lauren Alaina & Lainey Wilson', 'Tyler Hubbard', 'Jordan Davis', 'Niall Horan', 'Bailey Zimmerman', 'Megan Moroney', 'Taylor Swift', 'Lainey Wilson', 'Taylor Swift', 'Drew Baldridge', 'Sexyy Red, Nicki Minaj & Tay Keith', 'HARDY & Lainey Wilson', 'Brandon Lake', 'Post Malone', 'David Kushner', 'Kane Brown', 'Morgan Wallen', 'Sia', 'Naughty By Nature', 'Zach Bryan', 'Jain', 'Chris Stapleton', 'Post Malone', 'Jack Black', 'Naughty By Nature', 'Jonas Brothers', 'Morgan Wallen', 'Jelly Roll', 'Miguel', 'OneRepublic', 'HARDY', 'Eslabon Armado & Peso Pluma', 'Metro Boomin, A$AP Rocky & Roisee', 'Danae Hays', 'Jason Aldean', 'BTS', 'Cole Swindell', 'Miranda Lambert & Leon Bridges', 'FIFTY FIFTY', 'Old Dominion', 'Morgan Wallen', 'Ed Sheeran', 'Jon Pardi', 'Ed Sheeran', 'Taylor Swift', 'Jelly Roll', 'Noah Kahan', 'Sam Smith & Madonna', 'Latto', 'Brandon Lake', 'Bad Bunny', 'Dean Lewis', 'Will Dempsey', 'Taylor Swift', 'Taylor Swift', 'That Chick Angel, Casa Di & Steve Terrell', 'Tyler Childers', 'Lady Gaga', 'Luke Bryan', 'Bruno Mars', 'Cody Johnson', 'NLE Choppa', 'Harry Styles', 'NF', 'Cole Swindell', 'Rema', 'Ed Sheeran', 'Morgan Wallen']\n"
     ]
    }
   ],
   "source": [
    "title = []\n",
    "artist = []\n",
    "\n",
    "num_iter = len(soup.select('div.chart-content.col-xs-12.col-sm-8 > p'))\n",
    "\n",
    "title_list = soup.select('div.chart-content.col-xs-12.col-sm-8 > p > cite')\n",
    "artist_list = soup.select('div.chart-content.col-xs-12.col-sm-8 > p > em')\n",
    "\n",
    "\n",
    "for i in range(num_iter):\n",
    "    title.append(title_list[i].get_text())\n",
    "    artist.append(artist_list[i].get_text())\n",
    "print(title)\n",
    "print(artist)"
   ]
  },
  {
   "cell_type": "code",
   "execution_count": 10,
   "id": "3b836362",
   "metadata": {},
   "outputs": [],
   "source": [
    "songs = pd.DataFrame({\"title\":title,\n",
    "                       \"artist\":artist\n",
    "                      })"
   ]
  },
  {
   "cell_type": "code",
   "execution_count": 11,
   "id": "b2a674a9",
   "metadata": {},
   "outputs": [
    {
     "data": {
      "text/html": [
       "<div>\n",
       "<style scoped>\n",
       "    .dataframe tbody tr th:only-of-type {\n",
       "        vertical-align: middle;\n",
       "    }\n",
       "\n",
       "    .dataframe tbody tr th {\n",
       "        vertical-align: top;\n",
       "    }\n",
       "\n",
       "    .dataframe thead th {\n",
       "        text-align: right;\n",
       "    }\n",
       "</style>\n",
       "<table border=\"1\" class=\"dataframe\">\n",
       "  <thead>\n",
       "    <tr style=\"text-align: right;\">\n",
       "      <th></th>\n",
       "      <th>title</th>\n",
       "      <th>artist</th>\n",
       "    </tr>\n",
       "  </thead>\n",
       "  <tbody>\n",
       "    <tr>\n",
       "      <th>0</th>\n",
       "      <td>81 Million Votes, My Ass</td>\n",
       "      <td>The Truth Bombers &amp; Kari Lake</td>\n",
       "    </tr>\n",
       "    <tr>\n",
       "      <th>1</th>\n",
       "      <td>Fast Car</td>\n",
       "      <td>Luke Combs</td>\n",
       "    </tr>\n",
       "    <tr>\n",
       "      <th>2</th>\n",
       "      <td>Last Night</td>\n",
       "      <td>Morgan Wallen</td>\n",
       "    </tr>\n",
       "    <tr>\n",
       "      <th>3</th>\n",
       "      <td>Take Two</td>\n",
       "      <td>BTS</td>\n",
       "    </tr>\n",
       "    <tr>\n",
       "      <th>4</th>\n",
       "      <td>Need A Favor</td>\n",
       "      <td>Jelly Roll</td>\n",
       "    </tr>\n",
       "    <tr>\n",
       "      <th>...</th>\n",
       "      <td>...</td>\n",
       "      <td>...</td>\n",
       "    </tr>\n",
       "    <tr>\n",
       "      <th>95</th>\n",
       "      <td>HAPPY</td>\n",
       "      <td>NF</td>\n",
       "    </tr>\n",
       "    <tr>\n",
       "      <th>96</th>\n",
       "      <td>She Had Me At Heads Carolina</td>\n",
       "      <td>Cole Swindell</td>\n",
       "    </tr>\n",
       "    <tr>\n",
       "      <th>97</th>\n",
       "      <td>Calm Down</td>\n",
       "      <td>Rema</td>\n",
       "    </tr>\n",
       "    <tr>\n",
       "      <th>98</th>\n",
       "      <td>Life Goes On (feat. Luke Combs)</td>\n",
       "      <td>Ed Sheeran</td>\n",
       "    </tr>\n",
       "    <tr>\n",
       "      <th>99</th>\n",
       "      <td>Whiskey Glasses</td>\n",
       "      <td>Morgan Wallen</td>\n",
       "    </tr>\n",
       "  </tbody>\n",
       "</table>\n",
       "<p>100 rows × 2 columns</p>\n",
       "</div>"
      ],
      "text/plain": [
       "                              title                         artist\n",
       "0          81 Million Votes, My Ass  The Truth Bombers & Kari Lake\n",
       "1                          Fast Car                     Luke Combs\n",
       "2                        Last Night                  Morgan Wallen\n",
       "3                          Take Two                            BTS\n",
       "4                      Need A Favor                     Jelly Roll\n",
       "..                              ...                            ...\n",
       "95                            HAPPY                             NF\n",
       "96     She Had Me At Heads Carolina                  Cole Swindell\n",
       "97                        Calm Down                           Rema\n",
       "98  Life Goes On (feat. Luke Combs)                     Ed Sheeran\n",
       "99                  Whiskey Glasses                  Morgan Wallen\n",
       "\n",
       "[100 rows x 2 columns]"
      ]
     },
     "execution_count": 11,
     "metadata": {},
     "output_type": "execute_result"
    }
   ],
   "source": [
    "songs"
   ]
  },
  {
   "cell_type": "markdown",
   "id": "5efa5ce6",
   "metadata": {},
   "source": [
    "## Lab 2."
   ]
  },
  {
   "cell_type": "code",
   "execution_count": 12,
   "id": "7661e787",
   "metadata": {},
   "outputs": [],
   "source": [
    "url1 = \"https://www.billboard.com/charts/greatest-hot-100-singles/\""
   ]
  },
  {
   "cell_type": "code",
   "execution_count": 13,
   "id": "b6ec9a95",
   "metadata": {},
   "outputs": [
    {
     "data": {
      "text/plain": [
       "200"
      ]
     },
     "execution_count": 13,
     "metadata": {},
     "output_type": "execute_result"
    }
   ],
   "source": [
    "response1 = requests.get(url1)\n",
    "response1.status_code"
   ]
  },
  {
   "cell_type": "code",
   "execution_count": 14,
   "id": "d94d339f",
   "metadata": {},
   "outputs": [],
   "source": [
    "soup1 = BeautifulSoup(response1.content, \"html.parser\")"
   ]
  },
  {
   "cell_type": "code",
   "execution_count": 27,
   "id": "9949e21e",
   "metadata": {},
   "outputs": [],
   "source": [
    "#soup1"
   ]
  },
  {
   "cell_type": "code",
   "execution_count": 16,
   "id": "c7c75363",
   "metadata": {},
   "outputs": [
    {
     "data": {
      "text/plain": [
       "[<h3 class=\"c-title a-font-primary-bold-xxl a-font-primary-bold-l@mobile-max u-font-size-45@desktop\" id=\"title-of-a-story\">\n",
       " \n",
       " \t\n",
       " \t\n",
       " \t\t\n",
       " \t\t\t\t\tBlinding Lights\t\t\n",
       " \t\n",
       " </h3>]"
      ]
     },
     "execution_count": 16,
     "metadata": {},
     "output_type": "execute_result"
    }
   ],
   "source": [
    "soup1.select(\"div.chart-results-list.\\/\\/.u-padding-b-250.u-max-width-830.lrv-u-margin-lr-auto > div:nth-child(1) > ul > li.lrv-u-width-100p > ul > li.o-chart-results-list__item.\\/\\/.lrv-u-flex-grow-1.lrv-u-flex.lrv-u-flex-direction-column.lrv-u-justify-content-center.lrv-u-border-b-1.lrv-u-border-color-grey-light.lrv-u-padding-l-2.lrv-u-padding-r-1.lrv-u-padding-l-1\\@mobile-max h3\")"
   ]
  },
  {
   "cell_type": "code",
   "execution_count": 17,
   "id": "17cdad5d",
   "metadata": {},
   "outputs": [],
   "source": [
    "artist_list1 = soup1.select(\"ul > li.lrv-u-width-100p > ul > li.o-chart-results-list__item.\\/\\/.lrv-u-flex-grow-1.lrv-u-flex.lrv-u-flex-direction-column.lrv-u-justify-content-center.lrv-u-border-b-1.lrv-u-border-color-grey-light.lrv-u-padding-l-2.lrv-u-padding-r-1.lrv-u-padding-l-1\\@mobile-max > span\")"
   ]
  },
  {
   "cell_type": "code",
   "execution_count": 18,
   "id": "b7a2e397",
   "metadata": {},
   "outputs": [],
   "source": [
    "title_list1 = soup1.select(\"ul > li.lrv-u-width-100p > ul > li.o-chart-results-list__item.\\/\\/.lrv-u-flex-grow-1.lrv-u-flex.lrv-u-flex-direction-column.lrv-u-justify-content-center.lrv-u-border-b-1.lrv-u-border-color-grey-light.lrv-u-padding-l-2.lrv-u-padding-r-1.lrv-u-padding-l-1\\@mobile-max h3\")\n"
   ]
  },
  {
   "cell_type": "code",
   "execution_count": 19,
   "id": "6992b4eb",
   "metadata": {},
   "outputs": [
    {
     "name": "stdout",
     "output_type": "stream",
     "text": [
      "['Blinding Lights', 'The Twist', 'Smooth', 'Mack The Knife', 'Uptown Funk!', 'How Do I Live', 'Party Rock Anthem', 'I Gotta Feeling', 'Macarena (Bayside Boys Mix)', 'Shape Of You', 'Physical', 'You Light Up My Life', 'Hey Jude', 'Closer', 'We Belong Together', 'Un-Break My Heart', 'Yeah!', 'Bette Davis Eyes', 'Circles', 'Endless Love', \"Tonight's The Night (Gonna Be Alright)\", 'Foolish Games/You Were Meant For Me', '(Everything I Do) I Do It For You', \"I'Ll Make Love To You\", 'The Theme From \"A Summer Place\"', 'Le Freak', 'How Deep Is Your Love', 'Eye Of The Tiger', 'We Found Love', 'Girls Like You', 'Low', 'Levitating', 'I Just Want To Be Your Everything', 'Too Close', 'Every Breath You Take', 'Somebody That I Used To Know', 'Despacito', 'Flashdance...What A Feeling', 'Rolling In The Deep', \"Tossin' And Turnin'\", 'Old Town Road', 'The Battle Of New Orleans', 'One Sweet Day', 'Truly Madly Deeply', 'Silly Love Songs', \"Let's Get It On\", 'Night Fever', 'Another One Bites The Dust', 'Mood', 'Say Say Say', 'How You Remind Me', 'Tie A Yellow Ribbon Round The Ole Oak Tree', \"It's All In The Game\", 'I Want To Hold Your Hand', 'Shadow Dancing', 'Call Me Maybe', 'Blurred Lines', 'Candle In The Wind 1997/Something About The Way You Look Tonight', 'No One', 'I Will Always Love You', 'End Of The Road', 'Perfect', 'Boom Boom Pow', 'Call Me', 'Let Me Love You', \"Stayin' Alive\", 'Lady', 'Tik Tok', \"I'm A Believer\", 'Gold Digger', 'Apologize', 'The Sign', 'Centerfold', 'All About That Bass', 'Sunflower (Spider-Man: Into The Spider-Verse)', '(Just Like) Starting Over', 'Royals', 'The Boy Is Mine', 'Because I Love You (The Postman Song)', \"I Love Rock 'N Roll\", 'Aquarius/Let The Sunshine In (The Flesh Failures)', 'Whoomp! (There It Is)', \"God's Plan\", 'Moves Like Jagger', 'Ebony And Ivory', 'Rush Rush', \"That's What Friends Are For\", 'Happy', 'Upside Down', 'Sugar, Sugar', 'Just The Way You Are', 'Dilemma', 'I Heard It Through The Grapevine', \"You're Still The One\", 'Billie Jean', 'Hot Stuff', 'Rockstar', \"Gangsta's Paradise\", 'Abracadabra', \"You're So Vain\"]\n",
      "['The Weeknd', 'Chubby Checker', 'Santana Featuring Rob Thomas', 'Bobby Darin', 'Mark Ronson Featuring Bruno Mars', 'LeAnn Rimes', 'LMFAO Featuring Lauren Bennett & GoonRock', 'The Black Eyed Peas', 'Los Del Rio', 'Ed Sheeran', 'Olivia Newton-John', 'Debby Boone', 'The Beatles', 'The Chainsmokers Featuring Halsey', 'Mariah Carey', 'Toni Braxton', 'Usher Featuring Lil Jon & Ludacris', 'Kim Carnes', 'Post Malone', 'Diana Ross & Lionel Richie', 'Rod Stewart', 'Jewel', 'Bryan Adams', 'Boyz II Men', 'Percy Faith And His Orchestra', 'Chic', 'Bee Gees', 'Survivor', 'Rihanna Featuring Calvin Harris', 'Maroon 5 Featuring Cardi B', 'Flo Rida Featuring T-Pain', 'Dua Lipa', 'Andy Gibb', 'Next', 'The Police', 'Gotye Featuring Kimbra', 'Luis Fonsi & Daddy Yankee Featuring Justin Bieber', 'Irene Cara', 'Adele', 'Bobby Lewis', 'Lil Nas X Featuring Billy Ray Cyrus', 'Johnny Horton', 'Mariah Carey & Boyz II Men', 'Savage Garden', 'Wings', 'Marvin Gaye', 'Bee Gees', 'Queen', '24kGoldn Featuring iann dior', 'Paul McCartney And Michael Jackson', 'Nickelback', 'Dawn Featuring Tony Orlando', 'Tommy Edwards', 'The Beatles', 'Andy Gibb', 'Carly Rae Jepsen', 'Robin Thicke Featuring T.I. + Pharrell', 'Elton John', 'Alicia Keys', 'Whitney Houston', 'Boyz II Men', 'Ed Sheeran', 'The Black Eyed Peas', 'Blondie', 'Mario', 'Bee Gees', 'Kenny Rogers', 'Ke$ha', 'The Monkees', 'Kanye West Featuring Jamie Foxx', 'Timbaland Featuring OneRepublic', 'Ace Of Base', 'The J. Geils Band', 'Meghan Trainor', 'Post Malone & Swae Lee', 'John Lennon', 'Lorde', 'Brandy & Monica', 'Stevie B', 'Joan Jett & The Blackhearts', 'The 5th Dimension', 'Tag Team', 'Drake', 'Maroon 5 Featuring Christina Aguilera', 'Paul McCartney And Stevie Wonder', 'Paula Abdul', 'Dionne & Friends Featuring Elton John, Gladys Knight And Stevie Wonder', 'Pharrell Williams', 'Diana Ross', 'The Archies', 'Bruno Mars', 'Nelly Featuring Kelly Rowland', 'Marvin Gaye', 'Shania Twain', 'Michael Jackson', 'Donna Summer', 'Post Malone Featuring 21 Savage', 'Coolio Featuring L.V.', 'The Steve Miller Band', 'Carly Simon']\n"
     ]
    }
   ],
   "source": [
    "titles1 = []\n",
    "artist1 = []\n",
    "\n",
    "num_iter = len(artist_list1)\n",
    "\n",
    "for i in range(num_iter):\n",
    "    titles1.append(title_list1[i].get_text(strip=True))\n",
    "    artist1.append(artist_list1[i].get_text(strip=True))\n",
    "\n",
    "print(titles1)\n",
    "print(artist1)"
   ]
  },
  {
   "cell_type": "code",
   "execution_count": 20,
   "id": "93383100",
   "metadata": {},
   "outputs": [],
   "source": [
    "songs1 = pd.DataFrame({\"title\":titles1,\n",
    "                       \"artist\":artist1\n",
    "                      })"
   ]
  },
  {
   "cell_type": "code",
   "execution_count": 21,
   "id": "34388645",
   "metadata": {},
   "outputs": [
    {
     "data": {
      "text/html": [
       "<div>\n",
       "<style scoped>\n",
       "    .dataframe tbody tr th:only-of-type {\n",
       "        vertical-align: middle;\n",
       "    }\n",
       "\n",
       "    .dataframe tbody tr th {\n",
       "        vertical-align: top;\n",
       "    }\n",
       "\n",
       "    .dataframe thead th {\n",
       "        text-align: right;\n",
       "    }\n",
       "</style>\n",
       "<table border=\"1\" class=\"dataframe\">\n",
       "  <thead>\n",
       "    <tr style=\"text-align: right;\">\n",
       "      <th></th>\n",
       "      <th>title</th>\n",
       "      <th>artist</th>\n",
       "    </tr>\n",
       "  </thead>\n",
       "  <tbody>\n",
       "    <tr>\n",
       "      <th>0</th>\n",
       "      <td>Blinding Lights</td>\n",
       "      <td>The Weeknd</td>\n",
       "    </tr>\n",
       "    <tr>\n",
       "      <th>1</th>\n",
       "      <td>The Twist</td>\n",
       "      <td>Chubby Checker</td>\n",
       "    </tr>\n",
       "    <tr>\n",
       "      <th>2</th>\n",
       "      <td>Smooth</td>\n",
       "      <td>Santana Featuring Rob Thomas</td>\n",
       "    </tr>\n",
       "    <tr>\n",
       "      <th>3</th>\n",
       "      <td>Mack The Knife</td>\n",
       "      <td>Bobby Darin</td>\n",
       "    </tr>\n",
       "    <tr>\n",
       "      <th>4</th>\n",
       "      <td>Uptown Funk!</td>\n",
       "      <td>Mark Ronson Featuring Bruno Mars</td>\n",
       "    </tr>\n",
       "    <tr>\n",
       "      <th>...</th>\n",
       "      <td>...</td>\n",
       "      <td>...</td>\n",
       "    </tr>\n",
       "    <tr>\n",
       "      <th>95</th>\n",
       "      <td>Hot Stuff</td>\n",
       "      <td>Donna Summer</td>\n",
       "    </tr>\n",
       "    <tr>\n",
       "      <th>96</th>\n",
       "      <td>Rockstar</td>\n",
       "      <td>Post Malone Featuring 21 Savage</td>\n",
       "    </tr>\n",
       "    <tr>\n",
       "      <th>97</th>\n",
       "      <td>Gangsta's Paradise</td>\n",
       "      <td>Coolio Featuring L.V.</td>\n",
       "    </tr>\n",
       "    <tr>\n",
       "      <th>98</th>\n",
       "      <td>Abracadabra</td>\n",
       "      <td>The Steve Miller Band</td>\n",
       "    </tr>\n",
       "    <tr>\n",
       "      <th>99</th>\n",
       "      <td>You're So Vain</td>\n",
       "      <td>Carly Simon</td>\n",
       "    </tr>\n",
       "  </tbody>\n",
       "</table>\n",
       "<p>100 rows × 2 columns</p>\n",
       "</div>"
      ],
      "text/plain": [
       "                 title                            artist\n",
       "0      Blinding Lights                        The Weeknd\n",
       "1            The Twist                    Chubby Checker\n",
       "2               Smooth      Santana Featuring Rob Thomas\n",
       "3       Mack The Knife                       Bobby Darin\n",
       "4         Uptown Funk!  Mark Ronson Featuring Bruno Mars\n",
       "..                 ...                               ...\n",
       "95           Hot Stuff                      Donna Summer\n",
       "96            Rockstar   Post Malone Featuring 21 Savage\n",
       "97  Gangsta's Paradise             Coolio Featuring L.V.\n",
       "98         Abracadabra             The Steve Miller Band\n",
       "99      You're So Vain                       Carly Simon\n",
       "\n",
       "[100 rows x 2 columns]"
      ]
     },
     "execution_count": 21,
     "metadata": {},
     "output_type": "execute_result"
    }
   ],
   "source": [
    "songs1"
   ]
  },
  {
   "cell_type": "code",
   "execution_count": 22,
   "id": "901838bf",
   "metadata": {},
   "outputs": [],
   "source": [
    " songs = pd.concat([songs, songs1], axis = 0)"
   ]
  },
  {
   "cell_type": "code",
   "execution_count": 23,
   "id": "6c714a4f",
   "metadata": {},
   "outputs": [
    {
     "data": {
      "text/html": [
       "<div>\n",
       "<style scoped>\n",
       "    .dataframe tbody tr th:only-of-type {\n",
       "        vertical-align: middle;\n",
       "    }\n",
       "\n",
       "    .dataframe tbody tr th {\n",
       "        vertical-align: top;\n",
       "    }\n",
       "\n",
       "    .dataframe thead th {\n",
       "        text-align: right;\n",
       "    }\n",
       "</style>\n",
       "<table border=\"1\" class=\"dataframe\">\n",
       "  <thead>\n",
       "    <tr style=\"text-align: right;\">\n",
       "      <th></th>\n",
       "      <th>title</th>\n",
       "      <th>artist</th>\n",
       "    </tr>\n",
       "  </thead>\n",
       "  <tbody>\n",
       "    <tr>\n",
       "      <th>0</th>\n",
       "      <td>81 Million Votes, My Ass</td>\n",
       "      <td>The Truth Bombers &amp; Kari Lake</td>\n",
       "    </tr>\n",
       "    <tr>\n",
       "      <th>1</th>\n",
       "      <td>Fast Car</td>\n",
       "      <td>Luke Combs</td>\n",
       "    </tr>\n",
       "    <tr>\n",
       "      <th>2</th>\n",
       "      <td>Last Night</td>\n",
       "      <td>Morgan Wallen</td>\n",
       "    </tr>\n",
       "    <tr>\n",
       "      <th>3</th>\n",
       "      <td>Take Two</td>\n",
       "      <td>BTS</td>\n",
       "    </tr>\n",
       "    <tr>\n",
       "      <th>4</th>\n",
       "      <td>Need A Favor</td>\n",
       "      <td>Jelly Roll</td>\n",
       "    </tr>\n",
       "    <tr>\n",
       "      <th>...</th>\n",
       "      <td>...</td>\n",
       "      <td>...</td>\n",
       "    </tr>\n",
       "    <tr>\n",
       "      <th>95</th>\n",
       "      <td>Hot Stuff</td>\n",
       "      <td>Donna Summer</td>\n",
       "    </tr>\n",
       "    <tr>\n",
       "      <th>96</th>\n",
       "      <td>Rockstar</td>\n",
       "      <td>Post Malone Featuring 21 Savage</td>\n",
       "    </tr>\n",
       "    <tr>\n",
       "      <th>97</th>\n",
       "      <td>Gangsta's Paradise</td>\n",
       "      <td>Coolio Featuring L.V.</td>\n",
       "    </tr>\n",
       "    <tr>\n",
       "      <th>98</th>\n",
       "      <td>Abracadabra</td>\n",
       "      <td>The Steve Miller Band</td>\n",
       "    </tr>\n",
       "    <tr>\n",
       "      <th>99</th>\n",
       "      <td>You're So Vain</td>\n",
       "      <td>Carly Simon</td>\n",
       "    </tr>\n",
       "  </tbody>\n",
       "</table>\n",
       "<p>200 rows × 2 columns</p>\n",
       "</div>"
      ],
      "text/plain": [
       "                       title                           artist\n",
       "0   81 Million Votes, My Ass    The Truth Bombers & Kari Lake\n",
       "1                   Fast Car                       Luke Combs\n",
       "2                 Last Night                    Morgan Wallen\n",
       "3                   Take Two                              BTS\n",
       "4               Need A Favor                       Jelly Roll\n",
       "..                       ...                              ...\n",
       "95                 Hot Stuff                     Donna Summer\n",
       "96                  Rockstar  Post Malone Featuring 21 Savage\n",
       "97        Gangsta's Paradise            Coolio Featuring L.V.\n",
       "98               Abracadabra            The Steve Miller Band\n",
       "99            You're So Vain                      Carly Simon\n",
       "\n",
       "[200 rows x 2 columns]"
      ]
     },
     "execution_count": 23,
     "metadata": {},
     "output_type": "execute_result"
    }
   ],
   "source": [
    " songs"
   ]
  },
  {
   "cell_type": "code",
   "execution_count": 24,
   "id": "fa9d227e",
   "metadata": {},
   "outputs": [],
   "source": [
    "import random"
   ]
  },
  {
   "cell_type": "code",
   "execution_count": 25,
   "id": "8e2db419",
   "metadata": {},
   "outputs": [],
   "source": [
    "def recommend_song(song):\n",
    "    index = songs[songs['title'] == song].index\n",
    "    \n",
    "    if len(index) == 0:\n",
    "        print(\"No recommendation\")\n",
    "    else:\n",
    "        filtered_songs = songs[songs.index != index[0]]\n",
    "        \n",
    "        if len(filtered_songs) == 0:\n",
    "            print(\"No recommendation\")\n",
    "        else:\n",
    "            recommended_song = filtered_songs.sample(n=1)\n",
    "            recommended_title = recommended_song['title'].values[0]\n",
    "            recommended_artist = recommended_song['artist'].values[0]\n",
    "            print(\"Recommended song:\", recommended_title, \"by\", recommended_artist)"
   ]
  },
  {
   "cell_type": "code",
   "execution_count": 26,
   "id": "1586e865",
   "metadata": {},
   "outputs": [
    {
     "name": "stdout",
     "output_type": "stream",
     "text": [
      "Enter a song title: Fast Car\n",
      "Recommended song: Put It On Da Floor Again (feat. Cardi B) by Latto\n"
     ]
    }
   ],
   "source": [
    "input_song = input(\"Enter a song title: \")\n",
    "recommend_song(input_song)"
   ]
  },
  {
   "cell_type": "code",
   "execution_count": 1,
   "id": "3111b440",
   "metadata": {},
   "outputs": [
    {
     "ename": "NameError",
     "evalue": "name 'txt' is not defined",
     "output_type": "error",
     "traceback": [
      "\u001b[1;31m---------------------------------------------------------------------------\u001b[0m",
      "\u001b[1;31mNameError\u001b[0m                                 Traceback (most recent call last)",
      "Cell \u001b[1;32mIn[1], line 1\u001b[0m\n\u001b[1;32m----> 1\u001b[0m \u001b[38;5;28;01mif\u001b[39;00m \u001b[43mtxt\u001b[49m \u001b[38;5;129;01min\u001b[39;00m songs[\u001b[38;5;124m\"\u001b[39m\u001b[38;5;124mtitle\u001b[39m\u001b[38;5;124m\"\u001b[39m]\u001b[38;5;241m.\u001b[39mvalues:\n\u001b[0;32m      2\u001b[0m     \u001b[38;5;28mprint\u001b[39m(\u001b[38;5;124m\"\u001b[39m\u001b[38;5;124mWe recommend:\u001b[39m\u001b[38;5;124m\"\u001b[39m,random\u001b[38;5;241m.\u001b[39mchoice(songs[\u001b[38;5;124m\"\u001b[39m\u001b[38;5;124mtitle\u001b[39m\u001b[38;5;124m\"\u001b[39m]))\n\u001b[0;32m      3\u001b[0m \u001b[38;5;28;01melse\u001b[39;00m:\n",
      "\u001b[1;31mNameError\u001b[0m: name 'txt' is not defined"
     ]
    }
   ],
   "source": [
    "if txt in songs[\"title\"].values:\n",
    "    print(\"We recommend:\",random.choice(songs[\"title\"]))\n",
    "else:\n",
    "    print(\"no recommendations for you\")"
   ]
  },
  {
   "cell_type": "code",
   "execution_count": null,
   "id": "88cbec58",
   "metadata": {},
   "outputs": [],
   "source": []
  }
 ],
 "metadata": {
  "kernelspec": {
   "display_name": "Python 3 (ipykernel)",
   "language": "python",
   "name": "python3"
  },
  "language_info": {
   "codemirror_mode": {
    "name": "ipython",
    "version": 3
   },
   "file_extension": ".py",
   "mimetype": "text/x-python",
   "name": "python",
   "nbconvert_exporter": "python",
   "pygments_lexer": "ipython3",
   "version": "3.10.9"
  }
 },
 "nbformat": 4,
 "nbformat_minor": 5
}
